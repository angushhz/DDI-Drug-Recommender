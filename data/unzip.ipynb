{
 "cells": [
  {
   "cell_type": "code",
   "execution_count": 1,
   "metadata": {},
   "outputs": [],
   "source": [
    "import gzip\n",
    "import os\n",
    "from tqdm import tqdm"
   ]
  },
  {
   "cell_type": "code",
   "execution_count": 2,
   "metadata": {},
   "outputs": [],
   "source": [
    "data_path = \"mimic4/hosp\""
   ]
  },
  {
   "cell_type": "code",
   "execution_count": 3,
   "metadata": {},
   "outputs": [],
   "source": [
    "zip_list = os.listdir(data_path)"
   ]
  },
  {
   "cell_type": "code",
   "execution_count": 4,
   "metadata": {},
   "outputs": [],
   "source": [
    "for fn in zip_list:\n",
    "    if fn.split('.')[-1] != 'gz':\n",
    "        zip_list.remove(fn)"
   ]
  },
  {
   "cell_type": "code",
   "execution_count": 5,
   "metadata": {},
   "outputs": [
    {
     "data": {
      "text/plain": [
       "22"
      ]
     },
     "execution_count": 5,
     "metadata": {},
     "output_type": "execute_result"
    }
   ],
   "source": [
    "len(zip_list)"
   ]
  },
  {
   "cell_type": "code",
   "execution_count": 6,
   "metadata": {},
   "outputs": [
    {
     "name": "stderr",
     "output_type": "stream",
     "text": [
      "100%|██████████| 22/22 [04:37<00:00, 12.59s/it]\n"
     ]
    }
   ],
   "source": [
    "for zip_file in tqdm(zip_list):\n",
    "    with gzip.GzipFile(os.path.join(data_path, zip_file), mode='rb') as zf:\n",
    "        try:\n",
    "            data = zf.read()\n",
    "            with open(os.path.join(data_path, zip_file.split('.')[0] + '.csv'), 'wb') as f:\n",
    "                f.write(data)\n",
    "        except:\n",
    "            print('File error: ' + zip_file)\n",
    "    \n"
   ]
  }
 ],
 "metadata": {
  "kernelspec": {
   "display_name": "Python 3.9.7 ('rec')",
   "language": "python",
   "name": "python3"
  },
  "language_info": {
   "codemirror_mode": {
    "name": "ipython",
    "version": 3
   },
   "file_extension": ".py",
   "mimetype": "text/x-python",
   "name": "python",
   "nbconvert_exporter": "python",
   "pygments_lexer": "ipython3",
   "version": "3.9.5"
  },
  "orig_nbformat": 4,
  "vscode": {
   "interpreter": {
    "hash": "5263f6fa0a114fe53d3cfcbbd9a5a713ebde64ff95b877c59cf91f09feb7a8b6"
   }
  }
 },
 "nbformat": 4,
 "nbformat_minor": 2
}
