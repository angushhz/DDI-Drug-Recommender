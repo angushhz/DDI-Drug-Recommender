{
 "cells": [
  {
   "cell_type": "code",
   "execution_count": 1,
   "metadata": {},
   "outputs": [],
   "source": [
    "import os\n",
    "import dill\n",
    "import jsonlines\n",
    "import pandas as pd\n",
    "from utils import *"
   ]
  },
  {
   "cell_type": "code",
   "execution_count": 2,
   "metadata": {},
   "outputs": [],
   "source": [
    "class Voc(object):\n",
    "    '''Define the vocabulary (token) dict'''\n",
    "\n",
    "    def __init__(self):\n",
    "\n",
    "        self.idx2word = {}\n",
    "        self.word2idx = {}\n",
    "\n",
    "    def add_sentence(self, sentence):\n",
    "        '''add vocabulary to dict via a list of words'''\n",
    "        for word in sentence:\n",
    "            if word not in self.word2idx:\n",
    "                self.idx2word[len(self.word2idx)] = word\n",
    "                self.word2idx[word] = len(self.word2idx)\n",
    "\n",
    "# create voc set\n",
    "def create_str_token_mapping(df, vocabulary_file):\n",
    "    diag_voc = Voc()\n",
    "    med_voc = Voc()\n",
    "    pro_voc = Voc()\n",
    "\n",
    "    for index, row in df.iterrows():\n",
    "        diag_voc.add_sentence(row[\"ICD9_CODE\"])\n",
    "        med_voc.add_sentence(row[\"ATC3\"])\n",
    "        pro_voc.add_sentence(row[\"PRO_CODE\"])\n",
    "\n",
    "    dill.dump(\n",
    "        obj={\"diag_voc\": diag_voc, \"med_voc\": med_voc, \"pro_voc\": pro_voc},\n",
    "        file=open(vocabulary_file, \"wb\"),\n",
    "    )\n",
    "    return diag_voc, med_voc, pro_voc"
   ]
  },
  {
   "cell_type": "code",
   "execution_count": 3,
   "metadata": {},
   "outputs": [],
   "source": [
    "tokenizer = dill.load(open(\"./handled/voc_final.pkl\", \"rb\"))"
   ]
  },
  {
   "attachments": {},
   "cell_type": "markdown",
   "metadata": {},
   "source": [
    "## Step 1:\n",
    "Preprocess the raw MIMIC-III data as the original medication recommendation works"
   ]
  },
  {
   "cell_type": "code",
   "execution_count": 4,
   "metadata": {},
   "outputs": [],
   "source": [
    "base_dir = \"\"   # base folder\n",
    "\n",
    "## Some auxiliary info, such as DDI, ATC and ICD\n",
    "RXCUI2atc4_file = os.path.join(base_dir, \"./auxiliary/RXCUI2atc4.csv\")\n",
    "cid2atc6_file = os.path.join(base_dir, \"./auxiliary/drug-atc.csv\")\n",
    "ndc2RXCUI_file = os.path.join(base_dir, \"./auxiliary/ndc2RXCUI.txt\")\n",
    "ddi_file = os.path.join(base_dir, \"./auxiliary/drug-DDI.csv\")\n",
    "drugbankinfo = os.path.join(base_dir, \"./auxiliary/drugbank_drugs_info.csv\")"
   ]
  },
  {
   "cell_type": "code",
   "execution_count": 5,
   "metadata": {},
   "outputs": [],
   "source": [
    "med_file = os.path.join(base_dir, \"./raw/PRESCRIPTIONS.csv\")\n",
    "diag_file = os.path.join(base_dir, \"./raw/DIAGNOSES_ICD.csv\")\n",
    "procedure_file = (\n",
    "    os.path.join(base_dir, \"./raw/PROCEDURES_ICD.csv\")\n",
    ")\n",
    "\n",
    "# input auxiliary files\n",
    "med_structure_file = os.path.join(base_dir, \"./handled/atc32SMILES.pkl\")\n",
    "\n",
    "# output files\n",
    "ddi_adjacency_file = os.path.join(base_dir, \"./handled/full/ddi_A_final.pkl\")\n",
    "ehr_adjacency_file = os.path.join(base_dir, \"./handled/full/ehr_adj_final.pkl\")\n",
    "ehr_sequence_file = os.path.join(base_dir, \"./handled/full/records_final.pkl\")\n",
    "vocabulary_file = os.path.join(base_dir, \"./handled/full/voc_final.pkl\")\n",
    "ddi_mask_H_file = os.path.join(base_dir, \"./handled/full/ddi_mask_H.pkl\")\n",
    "atc3toSMILES_file = os.path.join(base_dir, \"./handled/full/atc3toSMILES.pkl\")"
   ]
  },
  {
   "cell_type": "code",
   "execution_count": null,
   "metadata": {},
   "outputs": [],
   "source": [
    "# for med\n",
    "med_pd = med_process(med_file)  # process the raw file\n",
    "# med_pd_lg2 = process_visit_lg1(med_pd).reset_index(drop=True)   # remain the single-visit\n",
    "med_pd_lg2 = process_visit_lg2(med_pd).reset_index(drop=True)   # filter out the patient has less 2 visits\n",
    "med_pd = med_pd.merge(\n",
    "    med_pd_lg2[[\"SUBJECT_ID\"]], on=\"SUBJECT_ID\", how=\"inner\"\n",
    ").reset_index(drop=True)\n",
    "\n",
    "med_pd = codeMapping2atc4(med_pd, ndc2RXCUI_file, RXCUI2atc4_file)\n",
    "med_pd = filter_300_most_med(med_pd)\n",
    "\n",
    "# med to SMILES mapping\n",
    "atc3toDrug = ATC3toDrug(med_pd)\n",
    "druginfo = pd.read_csv(drugbankinfo)\n",
    "atc3toSMILES = atc3toSMILES(atc3toDrug, druginfo)\n",
    "dill.dump(atc3toSMILES, open(atc3toSMILES_file, \"wb\"))\n",
    "med_pd = med_pd[med_pd.ATC3.isin(atc3toSMILES.keys())]\n",
    "print(\"complete medication processing\")\n",
    "\n",
    "# for diagnosis\n",
    "diag_pd = diag_process(diag_file)\n",
    "\n",
    "print(\"complete diagnosis processing\")\n",
    "\n",
    "# for procedure\n",
    "pro_pd = procedure_process(procedure_file)\n",
    "# pro_pd = filter_1000_most_pro(pro_pd)\n",
    "\n",
    "print(\"complete procedure processing\")\n",
    "\n",
    "# combine\n",
    "data = combine_process(med_pd, diag_pd, pro_pd)\n",
    "print(\"complete combining\")"
   ]
  },
  {
   "cell_type": "code",
   "execution_count": 7,
   "metadata": {},
   "outputs": [],
   "source": [
    "# statistics(data)"
   ]
  },
  {
   "cell_type": "code",
   "execution_count": 8,
   "metadata": {},
   "outputs": [],
   "source": [
    "# # create vocab\n",
    "# diag_voc, med_voc, pro_voc = create_str_token_mapping(data, vocabulary_file)\n",
    "# print(\"obtain voc\")\n",
    "\n",
    "# # create ehr sequence data\n",
    "# records = create_patient_record(data, diag_voc, med_voc, pro_voc, ehr_sequence_file)\n",
    "# print(\"obtain ehr sequence data\")\n",
    "\n",
    "# # create ddi adj matrix\n",
    "# ddi_adj = get_ddi_matrix(records, med_voc, ddi_file, cid2atc6_file, ehr_adjacency_file, ddi_adjacency_file)\n",
    "# print(\"obtain ddi adj matrix\")\n",
    "\n",
    "# # get ddi_mask_H\n",
    "# ddi_mask_H = get_ddi_mask(atc3toSMILES, med_voc)\n",
    "# dill.dump(ddi_mask_H, open(ddi_mask_H_file, \"wb\"))"
   ]
  },
  {
   "attachments": {},
   "cell_type": "markdown",
   "metadata": {},
   "source": [
    "## Step 2: Get side info\n",
    "Extract side information of patients from other csv"
   ]
  },
  {
   "cell_type": "code",
   "execution_count": 9,
   "metadata": {},
   "outputs": [],
   "source": [
    "def get_side(source_df, side_df, side_columns, aligh_column):\n",
    "\n",
    "    side_df = side_df[side_columns]\n",
    "    source_df = pd.merge(source_df, side_df, how=\"left\", on=aligh_column)\n",
    "\n",
    "    return source_df"
   ]
  },
  {
   "cell_type": "code",
   "execution_count": 10,
   "metadata": {},
   "outputs": [],
   "source": [
    "admission = pd.read_csv(\"./raw/ADMISSIONS.csv\")\n",
    "data = get_side(data, admission, \n",
    "                [\"HADM_ID\", \"INSURANCE\", \"LANGUAGE\", \"RELIGION\", \"MARITAL_STATUS\", \"ETHNICITY\", \"DIAGNOSIS\"],\n",
    "                \"HADM_ID\"\n",
    "                )"
   ]
  },
  {
   "cell_type": "code",
   "execution_count": 11,
   "metadata": {},
   "outputs": [],
   "source": [
    "data.fillna(value=\"unknown\", inplace=True)"
   ]
  },
  {
   "attachments": {},
   "cell_type": "markdown",
   "metadata": {},
   "source": [
    "## Step 3: Map ATC to drugname\n",
    "Resolve the mapping. In the original preprocessed data, the drug is represented by ATC code, but we need the drugname for LLM.\n"
   ]
  },
  {
   "cell_type": "code",
   "execution_count": 12,
   "metadata": {},
   "outputs": [],
   "source": [
    "RXCUI2atc4 = pd.read_csv(RXCUI2atc4_file)\n",
    "RXCUI2atc4[\"NDC\"] = RXCUI2atc4[\"NDC\"].map(lambda x: x.replace(\"-\", \"\"))\n",
    "with open(ndc2RXCUI_file, \"r\") as f:\n",
    "    ndc2RXCUI = eval(f.read())"
   ]
  },
  {
   "cell_type": "code",
   "execution_count": 13,
   "metadata": {},
   "outputs": [],
   "source": [
    "RXCUI2ndc = dict(zip(ndc2RXCUI.values(), ndc2RXCUI.keys()))\n",
    "RXCUI2atc4[\"RXCUI\"] = RXCUI2atc4[\"RXCUI\"].astype(\"str\")\n",
    "RXCUI2atc4[\"NDC\"] = RXCUI2atc4[\"RXCUI\"].map(RXCUI2ndc)\n",
    "RXCUI2atc4.dropna(axis=0, how=\"any\", inplace=True)\n",
    "RXCUI2atc4.drop_duplicates(inplace=True)"
   ]
  },
  {
   "cell_type": "code",
   "execution_count": 14,
   "metadata": {},
   "outputs": [
    {
     "data": {
      "text/plain": [
       "((32732, 5),\n",
       " YEAR       73\n",
       " MONTH      12\n",
       " NDC      2037\n",
       " RXCUI    2037\n",
       " ATC4      445\n",
       " dtype: int64)"
      ]
     },
     "execution_count": 14,
     "metadata": {},
     "output_type": "execute_result"
    }
   ],
   "source": [
    "RXCUI2atc4.shape, RXCUI2atc4.nunique()"
   ]
  },
  {
   "cell_type": "code",
   "execution_count": 15,
   "metadata": {},
   "outputs": [
    {
     "data": {
      "text/plain": [
       "(32732, 5)"
      ]
     },
     "execution_count": 15,
     "metadata": {},
     "output_type": "execute_result"
    }
   ],
   "source": [
    "RXCUI2atc4.drop_duplicates(inplace=True)\n",
    "RXCUI2atc4.shape"
   ]
  },
  {
   "cell_type": "code",
   "execution_count": 16,
   "metadata": {},
   "outputs": [
    {
     "data": {
      "text/html": [
       "<div>\n",
       "<style scoped>\n",
       "    .dataframe tbody tr th:only-of-type {\n",
       "        vertical-align: middle;\n",
       "    }\n",
       "\n",
       "    .dataframe tbody tr th {\n",
       "        vertical-align: top;\n",
       "    }\n",
       "\n",
       "    .dataframe thead th {\n",
       "        text-align: right;\n",
       "    }\n",
       "</style>\n",
       "<table border=\"1\" class=\"dataframe\">\n",
       "  <thead>\n",
       "    <tr style=\"text-align: right;\">\n",
       "      <th></th>\n",
       "      <th>SUBJECT_ID</th>\n",
       "      <th>HADM_ID</th>\n",
       "      <th>STARTDATE</th>\n",
       "      <th>DRUG</th>\n",
       "      <th>ATC3</th>\n",
       "    </tr>\n",
       "  </thead>\n",
       "  <tbody>\n",
       "    <tr>\n",
       "      <th>0</th>\n",
       "      <td>17</td>\n",
       "      <td>161087</td>\n",
       "      <td>2135-05-09</td>\n",
       "      <td>Acetaminophen</td>\n",
       "      <td>N02B</td>\n",
       "    </tr>\n",
       "    <tr>\n",
       "      <th>1</th>\n",
       "      <td>17</td>\n",
       "      <td>194023</td>\n",
       "      <td>2134-12-27</td>\n",
       "      <td>Acetaminophen</td>\n",
       "      <td>N02B</td>\n",
       "    </tr>\n",
       "    <tr>\n",
       "      <th>2</th>\n",
       "      <td>21</td>\n",
       "      <td>111970</td>\n",
       "      <td>2135-02-06</td>\n",
       "      <td>Acetaminophen</td>\n",
       "      <td>N02B</td>\n",
       "    </tr>\n",
       "    <tr>\n",
       "      <th>3</th>\n",
       "      <td>23</td>\n",
       "      <td>152223</td>\n",
       "      <td>2153-09-03</td>\n",
       "      <td>Acetaminophen</td>\n",
       "      <td>N02B</td>\n",
       "    </tr>\n",
       "    <tr>\n",
       "      <th>4</th>\n",
       "      <td>36</td>\n",
       "      <td>122659</td>\n",
       "      <td>2131-05-15</td>\n",
       "      <td>Acetaminophen</td>\n",
       "      <td>N02B</td>\n",
       "    </tr>\n",
       "  </tbody>\n",
       "</table>\n",
       "</div>"
      ],
      "text/plain": [
       "   SUBJECT_ID  HADM_ID  STARTDATE           DRUG  ATC3\n",
       "0          17   161087 2135-05-09  Acetaminophen  N02B\n",
       "1          17   194023 2134-12-27  Acetaminophen  N02B\n",
       "2          21   111970 2135-02-06  Acetaminophen  N02B\n",
       "3          23   152223 2153-09-03  Acetaminophen  N02B\n",
       "4          36   122659 2131-05-15  Acetaminophen  N02B"
      ]
     },
     "execution_count": 16,
     "metadata": {},
     "output_type": "execute_result"
    }
   ],
   "source": [
    "med_pd.head(5)"
   ]
  },
  {
   "cell_type": "code",
   "execution_count": 17,
   "metadata": {},
   "outputs": [
    {
     "name": "stderr",
     "output_type": "stream",
     "text": [
      "<ipython-input-17-c97a9618a25a>:1: DtypeWarning: Columns (11) have mixed types. Specify dtype option on import or set low_memory=False.\n",
      "  med_pd = pd.read_csv(med_file, dtype={\"NDC\": \"category\"})\n"
     ]
    },
    {
     "data": {
      "text/html": [
       "<div>\n",
       "<style scoped>\n",
       "    .dataframe tbody tr th:only-of-type {\n",
       "        vertical-align: middle;\n",
       "    }\n",
       "\n",
       "    .dataframe tbody tr th {\n",
       "        vertical-align: top;\n",
       "    }\n",
       "\n",
       "    .dataframe thead th {\n",
       "        text-align: right;\n",
       "    }\n",
       "</style>\n",
       "<table border=\"1\" class=\"dataframe\">\n",
       "  <thead>\n",
       "    <tr style=\"text-align: right;\">\n",
       "      <th></th>\n",
       "      <th>ROW_ID</th>\n",
       "      <th>SUBJECT_ID</th>\n",
       "      <th>HADM_ID</th>\n",
       "      <th>ICUSTAY_ID</th>\n",
       "      <th>STARTDATE</th>\n",
       "      <th>ENDDATE</th>\n",
       "      <th>DRUG_TYPE</th>\n",
       "      <th>DRUG</th>\n",
       "      <th>DRUG_NAME_POE</th>\n",
       "      <th>DRUG_NAME_GENERIC</th>\n",
       "      <th>FORMULARY_DRUG_CD</th>\n",
       "      <th>GSN</th>\n",
       "      <th>NDC</th>\n",
       "      <th>PROD_STRENGTH</th>\n",
       "      <th>DOSE_VAL_RX</th>\n",
       "      <th>DOSE_UNIT_RX</th>\n",
       "      <th>FORM_VAL_DISP</th>\n",
       "      <th>FORM_UNIT_DISP</th>\n",
       "      <th>ROUTE</th>\n",
       "    </tr>\n",
       "  </thead>\n",
       "  <tbody>\n",
       "    <tr>\n",
       "      <th>0</th>\n",
       "      <td>2214776</td>\n",
       "      <td>6</td>\n",
       "      <td>107064</td>\n",
       "      <td>NaN</td>\n",
       "      <td>2175-06-11 00:00:00</td>\n",
       "      <td>2175-06-12 00:00:00</td>\n",
       "      <td>MAIN</td>\n",
       "      <td>Tacrolimus</td>\n",
       "      <td>Tacrolimus</td>\n",
       "      <td>Tacrolimus</td>\n",
       "      <td>TACR1</td>\n",
       "      <td>021796</td>\n",
       "      <td>00469061711</td>\n",
       "      <td>1mg Capsule</td>\n",
       "      <td>2</td>\n",
       "      <td>mg</td>\n",
       "      <td>2</td>\n",
       "      <td>CAP</td>\n",
       "      <td>PO</td>\n",
       "    </tr>\n",
       "    <tr>\n",
       "      <th>1</th>\n",
       "      <td>2214775</td>\n",
       "      <td>6</td>\n",
       "      <td>107064</td>\n",
       "      <td>NaN</td>\n",
       "      <td>2175-06-11 00:00:00</td>\n",
       "      <td>2175-06-12 00:00:00</td>\n",
       "      <td>MAIN</td>\n",
       "      <td>Warfarin</td>\n",
       "      <td>Warfarin</td>\n",
       "      <td>Warfarin</td>\n",
       "      <td>WARF5</td>\n",
       "      <td>006562</td>\n",
       "      <td>00056017275</td>\n",
       "      <td>5mg Tablet</td>\n",
       "      <td>5</td>\n",
       "      <td>mg</td>\n",
       "      <td>1</td>\n",
       "      <td>TAB</td>\n",
       "      <td>PO</td>\n",
       "    </tr>\n",
       "    <tr>\n",
       "      <th>2</th>\n",
       "      <td>2215524</td>\n",
       "      <td>6</td>\n",
       "      <td>107064</td>\n",
       "      <td>NaN</td>\n",
       "      <td>2175-06-11 00:00:00</td>\n",
       "      <td>2175-06-12 00:00:00</td>\n",
       "      <td>MAIN</td>\n",
       "      <td>Heparin Sodium</td>\n",
       "      <td>NaN</td>\n",
       "      <td>NaN</td>\n",
       "      <td>HEPAPREMIX</td>\n",
       "      <td>006522</td>\n",
       "      <td>00338055002</td>\n",
       "      <td>25,000 unit Premix Bag</td>\n",
       "      <td>25,000</td>\n",
       "      <td>UNIT</td>\n",
       "      <td>1</td>\n",
       "      <td>BAG</td>\n",
       "      <td>IV</td>\n",
       "    </tr>\n",
       "    <tr>\n",
       "      <th>3</th>\n",
       "      <td>2216265</td>\n",
       "      <td>6</td>\n",
       "      <td>107064</td>\n",
       "      <td>NaN</td>\n",
       "      <td>2175-06-11 00:00:00</td>\n",
       "      <td>2175-06-12 00:00:00</td>\n",
       "      <td>BASE</td>\n",
       "      <td>D5W</td>\n",
       "      <td>NaN</td>\n",
       "      <td>NaN</td>\n",
       "      <td>HEPBASE</td>\n",
       "      <td>NaN</td>\n",
       "      <td>0</td>\n",
       "      <td>HEPARIN BASE</td>\n",
       "      <td>250</td>\n",
       "      <td>ml</td>\n",
       "      <td>250</td>\n",
       "      <td>ml</td>\n",
       "      <td>IV</td>\n",
       "    </tr>\n",
       "    <tr>\n",
       "      <th>4</th>\n",
       "      <td>2214773</td>\n",
       "      <td>6</td>\n",
       "      <td>107064</td>\n",
       "      <td>NaN</td>\n",
       "      <td>2175-06-11 00:00:00</td>\n",
       "      <td>2175-06-12 00:00:00</td>\n",
       "      <td>MAIN</td>\n",
       "      <td>Furosemide</td>\n",
       "      <td>Furosemide</td>\n",
       "      <td>Furosemide</td>\n",
       "      <td>FURO20</td>\n",
       "      <td>008208</td>\n",
       "      <td>00054829725</td>\n",
       "      <td>20mg Tablet</td>\n",
       "      <td>20</td>\n",
       "      <td>mg</td>\n",
       "      <td>1</td>\n",
       "      <td>TAB</td>\n",
       "      <td>PO</td>\n",
       "    </tr>\n",
       "  </tbody>\n",
       "</table>\n",
       "</div>"
      ],
      "text/plain": [
       "    ROW_ID  SUBJECT_ID  HADM_ID  ICUSTAY_ID            STARTDATE   \n",
       "0  2214776           6   107064         NaN  2175-06-11 00:00:00  \\\n",
       "1  2214775           6   107064         NaN  2175-06-11 00:00:00   \n",
       "2  2215524           6   107064         NaN  2175-06-11 00:00:00   \n",
       "3  2216265           6   107064         NaN  2175-06-11 00:00:00   \n",
       "4  2214773           6   107064         NaN  2175-06-11 00:00:00   \n",
       "\n",
       "               ENDDATE DRUG_TYPE            DRUG DRUG_NAME_POE   \n",
       "0  2175-06-12 00:00:00      MAIN      Tacrolimus    Tacrolimus  \\\n",
       "1  2175-06-12 00:00:00      MAIN        Warfarin      Warfarin   \n",
       "2  2175-06-12 00:00:00      MAIN  Heparin Sodium           NaN   \n",
       "3  2175-06-12 00:00:00      BASE             D5W           NaN   \n",
       "4  2175-06-12 00:00:00      MAIN      Furosemide    Furosemide   \n",
       "\n",
       "  DRUG_NAME_GENERIC FORMULARY_DRUG_CD     GSN          NDC   \n",
       "0        Tacrolimus             TACR1  021796  00469061711  \\\n",
       "1          Warfarin             WARF5  006562  00056017275   \n",
       "2               NaN        HEPAPREMIX  006522  00338055002   \n",
       "3               NaN           HEPBASE     NaN            0   \n",
       "4        Furosemide            FURO20  008208  00054829725   \n",
       "\n",
       "            PROD_STRENGTH DOSE_VAL_RX DOSE_UNIT_RX FORM_VAL_DISP   \n",
       "0             1mg Capsule           2           mg             2  \\\n",
       "1              5mg Tablet           5           mg             1   \n",
       "2  25,000 unit Premix Bag      25,000         UNIT             1   \n",
       "3            HEPARIN BASE         250           ml           250   \n",
       "4             20mg Tablet          20           mg             1   \n",
       "\n",
       "  FORM_UNIT_DISP ROUTE  \n",
       "0            CAP    PO  \n",
       "1            TAB    PO  \n",
       "2            BAG    IV  \n",
       "3             ml    IV  \n",
       "4            TAB    PO  "
      ]
     },
     "execution_count": 17,
     "metadata": {},
     "output_type": "execute_result"
    }
   ],
   "source": [
    "med_pd = pd.read_csv(med_file, dtype={\"NDC\": \"category\"})\n",
    "med_pd.head(5)"
   ]
  },
  {
   "cell_type": "code",
   "execution_count": 18,
   "metadata": {},
   "outputs": [],
   "source": [
    "med_pd[\"NDC\"].astype(\"str\")\n",
    "med_pd = pd.merge(med_pd, RXCUI2atc4, how=\"left\", on=\"NDC\")"
   ]
  },
  {
   "cell_type": "code",
   "execution_count": 19,
   "metadata": {},
   "outputs": [],
   "source": [
    "atc2drug = pd.read_csv(\"./auxiliary/WHO ATC-DDD 2021-12-03.csv\")\n",
    "atc2drug[\"code_len\"] = atc2drug[\"atc_code\"].map(lambda x: len(x))\n",
    "atc2drug = atc2drug[atc2drug[\"code_len\"]==4]    # all levels are included. We only need the 4th level, i.e., ATC4\n",
    "atc2drug.rename(columns={\"atc_code\": \"ATC4\"}, inplace=True)\n",
    "atc2drug.drop(columns=[\"ddd\", \"uom\", \"adm_r\", \"note\", \"code_len\"], axis=1, inplace=True)"
   ]
  },
  {
   "cell_type": "code",
   "execution_count": 20,
   "metadata": {},
   "outputs": [
    {
     "data": {
      "text/html": [
       "<div>\n",
       "<style scoped>\n",
       "    .dataframe tbody tr th:only-of-type {\n",
       "        vertical-align: middle;\n",
       "    }\n",
       "\n",
       "    .dataframe tbody tr th {\n",
       "        vertical-align: top;\n",
       "    }\n",
       "\n",
       "    .dataframe thead th {\n",
       "        text-align: right;\n",
       "    }\n",
       "</style>\n",
       "<table border=\"1\" class=\"dataframe\">\n",
       "  <thead>\n",
       "    <tr style=\"text-align: right;\">\n",
       "      <th></th>\n",
       "      <th>ATC4</th>\n",
       "      <th>atc_name</th>\n",
       "    </tr>\n",
       "  </thead>\n",
       "  <tbody>\n",
       "    <tr>\n",
       "      <th>2</th>\n",
       "      <td>A01A</td>\n",
       "      <td>STOMATOLOGICAL PREPARATIONS</td>\n",
       "    </tr>\n",
       "    <tr>\n",
       "      <th>46</th>\n",
       "      <td>A02A</td>\n",
       "      <td>ANTACIDS</td>\n",
       "    </tr>\n",
       "    <tr>\n",
       "      <th>79</th>\n",
       "      <td>A02B</td>\n",
       "      <td>DRUGS FOR PEPTIC ULCER AND GASTRO-OESOPHAGEAL ...</td>\n",
       "    </tr>\n",
       "    <tr>\n",
       "      <th>147</th>\n",
       "      <td>A02X</td>\n",
       "      <td>OTHER DRUGS FOR ACID RELATED DISORDERS</td>\n",
       "    </tr>\n",
       "    <tr>\n",
       "      <th>149</th>\n",
       "      <td>A03A</td>\n",
       "      <td>DRUGS FOR FUNCTIONAL GASTROINTESTINAL DISORDERS</td>\n",
       "    </tr>\n",
       "    <tr>\n",
       "      <th>219</th>\n",
       "      <td>A03B</td>\n",
       "      <td>BELLADONNA AND DERIVATIVES, PLAIN</td>\n",
       "    </tr>\n",
       "    <tr>\n",
       "      <th>235</th>\n",
       "      <td>A03C</td>\n",
       "      <td>ANTISPASMODICS IN COMBINATION WITH PSYCHOLEPTICS</td>\n",
       "    </tr>\n",
       "    <tr>\n",
       "      <th>255</th>\n",
       "      <td>A03D</td>\n",
       "      <td>ANTISPASMODICS IN COMBINATION WITH ANALGESICS</td>\n",
       "    </tr>\n",
       "    <tr>\n",
       "      <th>267</th>\n",
       "      <td>A03E</td>\n",
       "      <td>ANTISPASMODICS AND ANTICHOLINERGICS IN COMBINA...</td>\n",
       "    </tr>\n",
       "    <tr>\n",
       "      <th>270</th>\n",
       "      <td>A03F</td>\n",
       "      <td>PROPULSIVES</td>\n",
       "    </tr>\n",
       "  </tbody>\n",
       "</table>\n",
       "</div>"
      ],
      "text/plain": [
       "     ATC4                                           atc_name\n",
       "2    A01A                        STOMATOLOGICAL PREPARATIONS\n",
       "46   A02A                                           ANTACIDS\n",
       "79   A02B  DRUGS FOR PEPTIC ULCER AND GASTRO-OESOPHAGEAL ...\n",
       "147  A02X             OTHER DRUGS FOR ACID RELATED DISORDERS\n",
       "149  A03A    DRUGS FOR FUNCTIONAL GASTROINTESTINAL DISORDERS\n",
       "219  A03B                  BELLADONNA AND DERIVATIVES, PLAIN\n",
       "235  A03C   ANTISPASMODICS IN COMBINATION WITH PSYCHOLEPTICS\n",
       "255  A03D      ANTISPASMODICS IN COMBINATION WITH ANALGESICS\n",
       "267  A03E  ANTISPASMODICS AND ANTICHOLINERGICS IN COMBINA...\n",
       "270  A03F                                        PROPULSIVES"
      ]
     },
     "execution_count": 20,
     "metadata": {},
     "output_type": "execute_result"
    }
   ],
   "source": [
    "atc2drug.head(10)"
   ]
  },
  {
   "cell_type": "code",
   "execution_count": 21,
   "metadata": {},
   "outputs": [],
   "source": [
    "RXCUI2atc4[\"ATC4\"] = RXCUI2atc4[\"ATC4\"].map(lambda x: x[:4])"
   ]
  },
  {
   "cell_type": "code",
   "execution_count": 22,
   "metadata": {},
   "outputs": [
    {
     "data": {
      "text/plain": [
       "0"
      ]
     },
     "execution_count": 22,
     "metadata": {},
     "output_type": "execute_result"
    }
   ],
   "source": [
    "# all atc code in original data can be mapped to drugname by atc2drug.\n",
    "# means that we use the same data as the traditional medication recommendation models.\n",
    "pd.merge(RXCUI2atc4, atc2drug, on=\"ATC4\", how=\"left\")[\"atc_name\"].isna().sum()"
   ]
  },
  {
   "cell_type": "code",
   "execution_count": 23,
   "metadata": {},
   "outputs": [],
   "source": [
    "atc2drug[\"atc_name\"] = atc2drug[\"atc_name\"].map(lambda x: x.lower())"
   ]
  },
  {
   "cell_type": "code",
   "execution_count": 24,
   "metadata": {},
   "outputs": [],
   "source": [
    "# get the atc2drug and drug2atc mapping dict\n",
    "atc2drug_dict = dict(zip(atc2drug[\"ATC4\"].values, atc2drug[\"atc_name\"].values))\n",
    "drug2atc_dict = dict(zip(atc2drug[\"atc_name\"].values, atc2drug[\"ATC4\"].values))"
   ]
  },
  {
   "cell_type": "code",
   "execution_count": 25,
   "metadata": {},
   "outputs": [],
   "source": [
    "# import json\n",
    "# json.dump({\"atc2drug\": atc2drug_dict, \"drug2atc\": drug2atc_dict}, open(\"./handled/full_atc2drug.json\", \"w\"))"
   ]
  },
  {
   "cell_type": "code",
   "execution_count": 26,
   "metadata": {},
   "outputs": [],
   "source": [
    "# get the diagnosis and procedure mapping dict, which both use the ICD. these mappings are in raw MIMIC dataset\n",
    "icd2diag = pd.read_csv(\"./raw/D_ICD_DIAGNOSES.csv\")\n",
    "icd2diag_dict = dict(zip(icd2diag[\"ICD9_CODE\"].astype(str).values, icd2diag[\"SHORT_TITLE\"].values))"
   ]
  },
  {
   "cell_type": "code",
   "execution_count": 27,
   "metadata": {},
   "outputs": [],
   "source": [
    "icd2proc = pd.read_csv(\"./raw/D_ICD_PROCEDURES.csv\")\n",
    "icd2proc_dict = dict(zip(icd2proc[\"ICD9_CODE\"].astype(str).values, icd2proc[\"SHORT_TITLE\"].values))"
   ]
  },
  {
   "cell_type": "code",
   "execution_count": 28,
   "metadata": {},
   "outputs": [],
   "source": [
    "def decode(code_list, decoder):\n",
    "    # decode a list of code into corresponding names\n",
    "    miss_match = 0\n",
    "    target_list = []\n",
    "    for code in code_list:\n",
    "        try:\n",
    "            target_list.append(decoder[code])\n",
    "        except:\n",
    "            miss_match += 1\n",
    "    \n",
    "    #print(miss_match)\n",
    "\n",
    "    return target_list"
   ]
  },
  {
   "cell_type": "code",
   "execution_count": 29,
   "metadata": {},
   "outputs": [],
   "source": [
    "data[\"drug\"] = data[\"ATC3\"].map(lambda x: decode(x, atc2drug_dict))\n",
    "data[\"diagnosis\"] = data[\"ICD9_CODE\"].map(lambda x: decode(x, icd2diag_dict))\n",
    "data[\"procedure\"] = data[\"PRO_CODE\"].map(lambda x: decode(x, icd2proc_dict))"
   ]
  },
  {
   "attachments": {},
   "cell_type": "markdown",
   "metadata": {},
   "source": [
    "some miss matches occurs in diagnosis and procedures, but no for drug"
   ]
  },
  {
   "cell_type": "code",
   "execution_count": 30,
   "metadata": {},
   "outputs": [
    {
     "data": {
      "text/plain": [
       "['3571', '3961', '8872']"
      ]
     },
     "execution_count": 30,
     "metadata": {},
     "output_type": "execute_result"
    }
   ],
   "source": [
    "data.iloc[1][\"PRO_CODE\"]"
   ]
  },
  {
   "cell_type": "code",
   "execution_count": 31,
   "metadata": {},
   "outputs": [],
   "source": [
    "def profile_tokenization(df, profile_columns):\n",
    "    prof_dict = {\"word2idx\":{}, \"idx2word\": {}}\n",
    "    for prof in profile_columns:\n",
    "        prof_dict[\"idx2word\"][prof] = dict(zip(range(df[prof].nunique()), df[prof].unique()))\n",
    "        prof_dict[\"word2idx\"][prof] = dict(zip(df[prof].unique(), range(df[prof].nunique())))\n",
    "    return prof_dict"
   ]
  },
  {
   "cell_type": "code",
   "execution_count": 32,
   "metadata": {},
   "outputs": [],
   "source": [
    "# profile_dict = profile_tokenization(data, [\"INSURANCE\", \"LANGUAGE\", \"RELIGION\", \"MARITAL_STATUS\", \"ETHNICITY\"])\n",
    "# json.dump(profile_dict, open(\"./handled/full_profile_dict.json\", \"w\"))"
   ]
  },
  {
   "attachments": {},
   "cell_type": "markdown",
   "metadata": {},
   "source": [
    "## Step 4: Construct Prompt\n",
    "Design the prompt templates and construct the prompt"
   ]
  },
  {
   "cell_type": "code",
   "execution_count": 33,
   "metadata": {},
   "outputs": [],
   "source": [
    "# prompt templates\n",
    "main_template = \"The patient has <VISIT_NUM> times ICU visits. \\n <HISTORY> In this visit, he has diagnosis: <DIAGNOSIS>; procedures: <PROCEDURE>. Then, the patient should be prescribed: \"\n",
    "hist_template = \"In <VISIT_NO> visit, the patient had diagnosis: <DIAGNOSIS>; procedures: <PROCEDURE>. The patient was prescribed drugs: <MEDICATION>. \\n\""
   ]
  },
  {
   "cell_type": "code",
   "execution_count": 34,
   "metadata": {},
   "outputs": [],
   "source": [
    "# add some patient's profiles\n",
    "# main_template = \"The patient's insurance type is <INSU>, language is <LANG>, religion is <RELIGION>, marital status is <MARITAL>, ethnicity is <ETHN>. The patient has <VISIT_NUM> times ICU visits. \\n <HISTORY> In this visit, he has diagnosis: <DIAGNOSIS>; procedures: <PROCEDURE>. Then, the patient should be prescribed: \""
   ]
  },
  {
   "cell_type": "code",
   "execution_count": 35,
   "metadata": {},
   "outputs": [],
   "source": [
    "def concat_str(str_list):\n",
    "    # concat a list of drug / diagnosis / procedures\n",
    "    target_str = \"\"\n",
    "    for meta_str in str_list:\n",
    "        target_str = target_str + meta_str + \", \"\n",
    "    target_str = target_str[:-2]    # remove the last comma\n",
    "\n",
    "    return target_str"
   ]
  },
  {
   "cell_type": "code",
   "execution_count": 36,
   "metadata": {},
   "outputs": [],
   "source": [
    "llm_data = []\n",
    "\n",
    "for subject_id in data[\"SUBJECT_ID\"].unique():\n",
    "    item_df = data[data[\"SUBJECT_ID\"] == subject_id]\n",
    "    visit_num = item_df.shape[0] - 1\n",
    "    patient = []\n",
    "\n",
    "    profile = item_df.iloc[0]\n",
    "    patient_str = main_template.replace(\"<INSU>\", profile[\"INSURANCE\"].lower())\\\n",
    "                               .replace(\"<LANG>\", profile[\"LANGUAGE\"].lower())\\\n",
    "                               .replace(\"<RELIGION>\", profile[\"RELIGION\"].lower())\\\n",
    "                               .replace(\"<MARITAL>\", profile[\"MARITAL_STATUS\"].lower())\\\n",
    "                               .replace(\"<ETHN>\", profile[\"ETHNICITY\"].lower())\n",
    "\n",
    "    patient_profile = {\"INSURANCE\": profile[\"INSURANCE\"], \"LANGUAGE\": profile[\"LANGUAGE\"],\n",
    "                       \"RELIGION\": profile[\"RELIGION\"], \"MARITAL_STATUS\": profile[\"MARITAL_STATUS\"],\n",
    "                       \"ETHNICITY\": profile[\"ETHNICITY\"]}\n",
    "\n",
    "    # get each historical visit string\n",
    "    for visit_no, (_, row) in enumerate(item_df.iterrows()):\n",
    "        drug, diag, proc = concat_str(row[\"drug\"]), concat_str(row[\"diagnosis\"]), concat_str(row[\"procedure\"])\n",
    "        patient.append(hist_template.replace(\"<VISIT_NO>\", str(visit_no+1))\\\n",
    "                                    .replace(\"<DIGNOSIS>\", diag)\\\n",
    "                                    .replace(\"<PROCEDURE>\", proc)\\\n",
    "                                    .replace(\"<MEDICATION>\", drug))\n",
    "    patient.pop()   # remove the ground truth record\n",
    "\n",
    "    # filter out the patients with more than N times visits\n",
    "    if len(patient) > 3:\n",
    "        patient = patient[-3:]\n",
    "\n",
    "    # concat all historical visit strings and get hist strings\n",
    "    hist_str = \"\"\n",
    "    for meta_hist in patient:\n",
    "        hist_str += meta_hist\n",
    "    \n",
    "    patient_str = patient_str.replace(\"<VISIT_NUM>\", str(visit_num))\\\n",
    "                             .replace(\"<HISTORY>\", hist_str)\\\n",
    "                             .replace(\"<DIAGNOSIS>\", diag)\\\n",
    "                             .replace(\"<PROCEDURE>\", proc)\n",
    "    \n",
    "    drug_code = [str(x) for x in row[\"ATC3\"]]\n",
    "\n",
    "    hist = {\"diagnosis\": [], \"procedure\": [], \"medication\": []}\n",
    "    for _, row in item_df.iterrows():\n",
    "        hist[\"diagnosis\"].append([str(x) for x in row[\"ICD9_CODE\"]])\n",
    "        hist[\"procedure\"].append([str(x) for x in row[\"PRO_CODE\"]])\n",
    "        hist[\"medication\"].append([str(x) for x in row[\"ATC3\"]])\n",
    "        \n",
    "    llm_data.append({\"input\": patient_str, \"target\": drug, \n",
    "                     \"subject_id\": int(subject_id), \"drug_code\": drug_code,\n",
    "                     \"records\": hist, \"profile\": patient_profile})\n",
    "        "
   ]
  },
  {
   "cell_type": "code",
   "execution_count": 37,
   "metadata": {},
   "outputs": [],
   "source": [
    "file_path = \"./handled/\"\n",
    "\n",
    "def read_data(data_path):\n",
    "    '''read data from jsonlines file'''\n",
    "    data = []\n",
    "\n",
    "    with jsonlines.open(file_path + data_path, \"r\") as f:\n",
    "        for meta_data in f:\n",
    "            data.append(meta_data)\n",
    "\n",
    "    return data\n",
    "\n",
    "\n",
    "def save_data(data_path, data):\n",
    "    '''write all_data list to a new jsonl'''\n",
    "    with jsonlines.open(file_path + data_path, \"w\") as w:\n",
    "        for meta_data in data:\n",
    "            w.write(meta_data)"
   ]
  },
  {
   "cell_type": "code",
   "execution_count": 38,
   "metadata": {},
   "outputs": [],
   "source": [
    "# split the dataset: 8:1:1\n",
    "train_split = int(len(llm_data) * 0.8)\n",
    "val_split = int(len(llm_data) * 0.1)\n",
    "train = llm_data[:train_split]\n",
    "val = llm_data[train_split:train_split+val_split]\n",
    "test = llm_data[train_split+val_split:]"
   ]
  },
  {
   "cell_type": "code",
   "execution_count": 44,
   "metadata": {},
   "outputs": [],
   "source": [
    "# cut too long sequences\n",
    "save_data(\"train_0105.json\", train)\n",
    "save_data(\"val_0105.json\", val)\n",
    "save_data(\"test_0105.json\", test)"
   ]
  }
 ],
 "metadata": {
  "kernelspec": {
   "display_name": "llm",
   "language": "python",
   "name": "python3"
  },
  "language_info": {
   "codemirror_mode": {
    "name": "ipython",
    "version": 3
   },
   "file_extension": ".py",
   "mimetype": "text/x-python",
   "name": "python",
   "nbconvert_exporter": "python",
   "pygments_lexer": "ipython3",
   "version": "3.9.5"
  },
  "orig_nbformat": 4
 },
 "nbformat": 4,
 "nbformat_minor": 2
}
